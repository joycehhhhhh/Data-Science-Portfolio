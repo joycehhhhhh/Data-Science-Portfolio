{
 "cells": [
  {
   "cell_type": "code",
   "execution_count": 1,
   "metadata": {},
   "outputs": [],
   "source": [
    "import pandas as pd\n",
    "import requests\n",
    "from bs4 import BeautifulSoup\n",
    "from selenium import webdriver\n",
    "from selenium.webdriver.common.keys import Keys"
   ]
  },
  {
   "cell_type": "code",
   "execution_count": 2,
   "metadata": {},
   "outputs": [],
   "source": [
    "issue=[]\n",
    "final_issues=[]\n",
    "url2018=\"https://onlinelibrary.wiley.com/loi/24750360/year/2018\"\n",
    "browser=webdriver.Chrome()\n",
    "browser.get(url2018)\n",
    "soup = BeautifulSoup(browser.page_source, 'html.parser')\n",
    "url=[]\n",
    "for data1 in soup.select('h4[class=\"parent-item\"]>a'):\n",
    "    url.append(data1['href'])\n",
    "sub_url=[]\n",
    "for data2 in url:\n",
    "    data2=\"https://onlinelibrary.wiley.com\"+data2\n",
    "    sub_url.append(data2)"
   ]
  },
  {
   "cell_type": "code",
   "execution_count": 17,
   "metadata": {},
   "outputs": [
    {
     "name": "stdout",
     "output_type": "stream",
     "text": [
      "['/doi/10.1002/agm2.12002', '/doi/10.1002/agm2.12049', '/doi/10.1002/agm2.12043', '/doi/10.1002/agm2.12044', '/doi/10.1002/agm2.12046', '/doi/10.1002/agm2.12045', '/doi/10.1002/agm2.12047', '/doi/10.1002/agm2.12042', '/doi/10.1002/agm2.12048', '/doi/10.1002/agm2.12001', '/doi/10.1002/agm2.12019', '/doi/10.1002/agm2.12020', '/doi/10.1002/agm2.12035', '/doi/10.1002/agm2.12029', '/doi/10.1002/agm2.12031', '/doi/10.1002/agm2.12023', '/doi/10.1002/agm2.12034', '/doi/10.1002/agm2.12038', '/doi/10.1002/agm2.12028', '/doi/10.1002/agm2.12030', '/doi/10.1002/agm2.12032', '/doi/10.1002/agm2.12033', '/doi/10.1002/agm2.12036', '/doi/10.1002/agm2.12041', '/doi/10.1002/agm2.12037', '/doi/10.1002/agm2.12039', '/doi/10.1002/agm2.12000', '/doi/10.1002/agm2.12018', '/doi/10.1002/agm2.12010', '/doi/10.1002/agm2.12011', '/doi/10.1002/agm2.12013', '/doi/10.1002/agm2.12016', '/doi/10.1002/agm2.12004', '/doi/10.1002/agm2.12006', '/doi/10.1002/agm2.12005', '/doi/10.1002/agm2.12008', '/doi/10.1002/agm2.12012', '/doi/10.1002/agm2.12014', '/doi/10.1002/agm2.12009', '/doi/10.1002/agm2.12015', '/doi/10.1002/agm2.12017']\n"
     ]
    }
   ],
   "source": [
    "for data3 in sub_url:\n",
    "    browser=webdriver.Chrome()\n",
    "    browser.get(data3)\n",
    "    soup = BeautifulSoup(browser.page_source, 'html.parser')\n",
    "    for data4 in soup.select('a[class=\"issue-item__title visitable\"]'):\n",
    "        issue.append(data4['href'])"
   ]
  },
  {
   "cell_type": "code",
   "execution_count": 18,
   "metadata": {},
   "outputs": [
    {
     "name": "stdout",
     "output_type": "stream",
     "text": [
      "['https://onlinelibrary.wiley.com/doi/10.1002/agm2.12002', 'https://onlinelibrary.wiley.com/doi/10.1002/agm2.12049', 'https://onlinelibrary.wiley.com/doi/10.1002/agm2.12043', 'https://onlinelibrary.wiley.com/doi/10.1002/agm2.12044', 'https://onlinelibrary.wiley.com/doi/10.1002/agm2.12046', 'https://onlinelibrary.wiley.com/doi/10.1002/agm2.12045', 'https://onlinelibrary.wiley.com/doi/10.1002/agm2.12047', 'https://onlinelibrary.wiley.com/doi/10.1002/agm2.12042', 'https://onlinelibrary.wiley.com/doi/10.1002/agm2.12048', 'https://onlinelibrary.wiley.com/doi/10.1002/agm2.12001', 'https://onlinelibrary.wiley.com/doi/10.1002/agm2.12019', 'https://onlinelibrary.wiley.com/doi/10.1002/agm2.12020', 'https://onlinelibrary.wiley.com/doi/10.1002/agm2.12035', 'https://onlinelibrary.wiley.com/doi/10.1002/agm2.12029', 'https://onlinelibrary.wiley.com/doi/10.1002/agm2.12031', 'https://onlinelibrary.wiley.com/doi/10.1002/agm2.12023', 'https://onlinelibrary.wiley.com/doi/10.1002/agm2.12034', 'https://onlinelibrary.wiley.com/doi/10.1002/agm2.12038', 'https://onlinelibrary.wiley.com/doi/10.1002/agm2.12028', 'https://onlinelibrary.wiley.com/doi/10.1002/agm2.12030', 'https://onlinelibrary.wiley.com/doi/10.1002/agm2.12032', 'https://onlinelibrary.wiley.com/doi/10.1002/agm2.12033', 'https://onlinelibrary.wiley.com/doi/10.1002/agm2.12036', 'https://onlinelibrary.wiley.com/doi/10.1002/agm2.12041', 'https://onlinelibrary.wiley.com/doi/10.1002/agm2.12037', 'https://onlinelibrary.wiley.com/doi/10.1002/agm2.12039', 'https://onlinelibrary.wiley.com/doi/10.1002/agm2.12000', 'https://onlinelibrary.wiley.com/doi/10.1002/agm2.12018', 'https://onlinelibrary.wiley.com/doi/10.1002/agm2.12010', 'https://onlinelibrary.wiley.com/doi/10.1002/agm2.12011', 'https://onlinelibrary.wiley.com/doi/10.1002/agm2.12013', 'https://onlinelibrary.wiley.com/doi/10.1002/agm2.12016', 'https://onlinelibrary.wiley.com/doi/10.1002/agm2.12004', 'https://onlinelibrary.wiley.com/doi/10.1002/agm2.12006', 'https://onlinelibrary.wiley.com/doi/10.1002/agm2.12005', 'https://onlinelibrary.wiley.com/doi/10.1002/agm2.12008', 'https://onlinelibrary.wiley.com/doi/10.1002/agm2.12012', 'https://onlinelibrary.wiley.com/doi/10.1002/agm2.12014', 'https://onlinelibrary.wiley.com/doi/10.1002/agm2.12009', 'https://onlinelibrary.wiley.com/doi/10.1002/agm2.12015', 'https://onlinelibrary.wiley.com/doi/10.1002/agm2.12017']\n"
     ]
    }
   ],
   "source": [
    "for data5 in issue:\n",
    "    data5=\"https://onlinelibrary.wiley.com\"+data5\n",
    "    final_issues.append(data5)  \n",
    "print(final_issues)"
   ]
  },
  {
   "cell_type": "code",
   "execution_count": null,
   "metadata": {},
   "outputs": [],
   "source": [
    "issue_=pd.DataFrame.from_dict({\n",
    "    \"url\":final_issues\n",
    "}, orient ='index')\n",
    "issue_=issue_.transpose()\n",
    "issue_.to_excel(\"issue_2018.xlsx\")"
   ]
  },
  {
   "cell_type": "code",
   "execution_count": null,
   "metadata": {},
   "outputs": [],
   "source": []
  },
  {
   "cell_type": "code",
   "execution_count": null,
   "metadata": {},
   "outputs": [],
   "source": []
  }
 ],
 "metadata": {
  "kernelspec": {
   "display_name": "Python 3",
   "language": "python",
   "name": "python3"
  },
  "language_info": {
   "codemirror_mode": {
    "name": "ipython",
    "version": 3
   },
   "file_extension": ".py",
   "mimetype": "text/x-python",
   "name": "python",
   "nbconvert_exporter": "python",
   "pygments_lexer": "ipython3",
   "version": "3.7.6"
  }
 },
 "nbformat": 4,
 "nbformat_minor": 4
}
